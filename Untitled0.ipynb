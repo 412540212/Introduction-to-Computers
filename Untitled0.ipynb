{
  "nbformat": 4,
  "nbformat_minor": 0,
  "metadata": {
    "colab": {
      "provenance": [],
      "authorship_tag": "ABX9TyNr0xHPqmeKPlycIoj2em9b",
      "include_colab_link": true
    },
    "kernelspec": {
      "name": "python3",
      "display_name": "Python 3"
    },
    "language_info": {
      "name": "python"
    }
  },
  "cells": [
    {
      "cell_type": "markdown",
      "metadata": {
        "id": "view-in-github",
        "colab_type": "text"
      },
      "source": [
        "<a href=\"https://colab.research.google.com/github/412540212/Introduction-to-Computers/blob/main/Untitled0.ipynb\" target=\"_parent\"><img src=\"https://colab.research.google.com/assets/colab-badge.svg\" alt=\"Open In Colab\"/></a>"
      ]
    },
    {
      "cell_type": "code",
      "execution_count": 2,
      "metadata": {
        "colab": {
          "base_uri": "https://localhost:8080/"
        },
        "id": "FzDX1dX6wxnw",
        "outputId": "ae8cb1a8-7fa4-40b6-a053-454f6aaae827"
      },
      "outputs": [
        {
          "output_type": "stream",
          "name": "stdout",
          "text": [
            "請輸入您的體溫：36\n",
            "體溫正常！\n"
          ]
        }
      ],
      "source": [
        "temperature = float(input(\"請輸入您的體溫：\"))\n",
        "\n",
        "if temperature >= 37.5:\n",
        "  print(\"體溫過高！\")\n",
        "elif 37 <= temperature <= 37.4:\n",
        "  print(\"體溫略高！\")\n",
        "elif 34 <= temperature <= 36.9:\n",
        "  print(\"體溫正常！\")\n",
        "elif temperature < 34:\n",
        "  print(\"體溫異常，請重新量測！\")\n",
        "else:\n",
        "  print(\"輸入錯誤，請輸入有效的體溫值。\")"
      ]
    },
    {
      "cell_type": "code",
      "source": [
        "score = int(input(\"請輸入成績：\"))\n",
        "if score >= 90:\n",
        "  print(\"A\")\n",
        "elif 80 <= score <= 89:\n",
        "  print(\"B\")\n",
        "elif 70 <= score <= 79:\n",
        " print(\"C\")\n",
        "elif 60 <= score <= 69:\n",
        "  print(\"D\")\n",
        "else:\n",
        "  print(\"E\")"
      ],
      "metadata": {
        "colab": {
          "base_uri": "https://localhost:8080/"
        },
        "id": "ZkWZLWB1zhWh",
        "outputId": "e1cf29f0-a7c9-4fb5-c2c9-d10e543e14fd"
      },
      "execution_count": 3,
      "outputs": [
        {
          "output_type": "stream",
          "name": "stdout",
          "text": [
            "請輸入成績：83\n",
            "B\n"
          ]
        }
      ]
    },
    {
      "cell_type": "code",
      "source": [
        "month = int(input(\"請輸入月份：\"))\n",
        "if month in [3, 4, 5]:\n",
        "  print(f\"{month}月是春天！\")\n",
        "elif month in [6, 7, 8]:\n",
        "  print(f\"{month}月是夏天！\")\n",
        "elif month in [9, 10, 11]:\n",
        "  print(f\"{month}月是秋天！\")\n",
        "elif month in [12, 1, 2]:\n",
        "  print(f\"{month}月是冬天！\")\n",
        "else:\n",
        "  print(\"該月份不在範圍內！\")"
      ],
      "metadata": {
        "colab": {
          "base_uri": "https://localhost:8080/"
        },
        "id": "o9NjmYZu1_1h",
        "outputId": "c71f8e28-5b55-4868-c585-ccd753ec9ee8"
      },
      "execution_count": 1,
      "outputs": [
        {
          "output_type": "stream",
          "name": "stdout",
          "text": [
            "請輸入月份：8\n",
            "8月是夏天！\n"
          ]
        }
      ]
    }
  ]
}